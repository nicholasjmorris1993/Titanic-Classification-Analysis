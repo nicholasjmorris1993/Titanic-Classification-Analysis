{
 "cells": [
  {
   "cell_type": "code",
   "execution_count": 1,
   "id": "abb00f0e-b45a-475a-ab3f-1647e3f87002",
   "metadata": {},
   "outputs": [
    {
     "name": "stdout",
     "output_type": "stream",
     "text": [
      "Requirement already satisfied: plotly in /opt/conda/envs/sagemaker-distribution/lib/python3.8/site-packages (5.17.0)\n",
      "Requirement already satisfied: tenacity>=6.2.0 in /opt/conda/envs/sagemaker-distribution/lib/python3.8/site-packages (from plotly) (8.2.3)\n",
      "Requirement already satisfied: packaging in /opt/conda/envs/sagemaker-distribution/lib/python3.8/site-packages (from plotly) (23.1)\n",
      "Note: you may need to restart the kernel to use updated packages.\n",
      "Requirement already satisfied: py-cpuinfo in /opt/conda/envs/sagemaker-distribution/lib/python3.8/site-packages (9.0.0)\n",
      "Note: you may need to restart the kernel to use updated packages.\n",
      "Requirement already satisfied: pandas-datareader in /opt/conda/envs/sagemaker-distribution/lib/python3.8/site-packages (0.10.0)\n",
      "Requirement already satisfied: lxml in /opt/conda/envs/sagemaker-distribution/lib/python3.8/site-packages (from pandas-datareader) (4.9.3)\n",
      "Requirement already satisfied: pandas>=0.23 in /opt/conda/envs/sagemaker-distribution/lib/python3.8/site-packages (from pandas-datareader) (2.0.3)\n",
      "Requirement already satisfied: requests>=2.19.0 in /opt/conda/envs/sagemaker-distribution/lib/python3.8/site-packages (from pandas-datareader) (2.31.0)\n",
      "Requirement already satisfied: python-dateutil>=2.8.2 in /opt/conda/envs/sagemaker-distribution/lib/python3.8/site-packages (from pandas>=0.23->pandas-datareader) (2.8.2)\n",
      "Requirement already satisfied: pytz>=2020.1 in /opt/conda/envs/sagemaker-distribution/lib/python3.8/site-packages (from pandas>=0.23->pandas-datareader) (2023.3)\n",
      "Requirement already satisfied: tzdata>=2022.1 in /opt/conda/envs/sagemaker-distribution/lib/python3.8/site-packages (from pandas>=0.23->pandas-datareader) (2023.3)\n",
      "Requirement already satisfied: numpy>=1.20.3 in /opt/conda/envs/sagemaker-distribution/lib/python3.8/site-packages (from pandas>=0.23->pandas-datareader) (1.24.4)\n",
      "Requirement already satisfied: charset-normalizer<4,>=2 in /opt/conda/envs/sagemaker-distribution/lib/python3.8/site-packages (from requests>=2.19.0->pandas-datareader) (3.2.0)\n",
      "Requirement already satisfied: idna<4,>=2.5 in /opt/conda/envs/sagemaker-distribution/lib/python3.8/site-packages (from requests>=2.19.0->pandas-datareader) (3.4)\n",
      "Requirement already satisfied: urllib3<3,>=1.21.1 in /opt/conda/envs/sagemaker-distribution/lib/python3.8/site-packages (from requests>=2.19.0->pandas-datareader) (1.26.15)\n",
      "Requirement already satisfied: certifi>=2017.4.17 in /opt/conda/envs/sagemaker-distribution/lib/python3.8/site-packages (from requests>=2.19.0->pandas-datareader) (2023.7.22)\n",
      "Requirement already satisfied: six>=1.5 in /opt/conda/envs/sagemaker-distribution/lib/python3.8/site-packages (from python-dateutil>=2.8.2->pandas>=0.23->pandas-datareader) (1.16.0)\n",
      "Note: you may need to restart the kernel to use updated packages.\n"
     ]
    }
   ],
   "source": [
    "# install missing packages\n",
    "%pip install plotly\n",
    "%pip install py-cpuinfo\n",
    "%pip install pandas-datareader"
   ]
  },
  {
   "cell_type": "code",
   "execution_count": 2,
   "id": "28211ea4-4ff7-48eb-a395-53442492a061",
   "metadata": {
    "tags": []
   },
   "outputs": [
    {
     "name": "stdout",
     "output_type": "stream",
     "text": [
      "Total RAM: 15.47 GB\n",
      "Available RAM: 13.96 GB\n",
      "Used RAM: 1.26 GB\n",
      "Percentage Usage Of RAM: 9.8%\n",
      "CPU Cores: 4\n",
      "CPU Speed: 2.5000 GHz\n",
      "Total Disk: 24.99 GB\n",
      "Available Disk: 15.04 GB\n",
      "Used Disk: 9.95 GB\n",
      "Percentage Usage Of Disk: 39.8%\n"
     ]
    }
   ],
   "source": [
    "# check system details\n",
    "import os\n",
    "import psutil\n",
    "import cpuinfo\n",
    "\n",
    "ram_info = psutil.virtual_memory()\n",
    "print(f\"Total RAM: {ram_info.total / 1024 / 1024 / 1024:.2f} GB\")\n",
    "print(f\"Available RAM: {ram_info.available / 1024 / 1024 / 1024:.2f} GB\")\n",
    "print(f\"Used RAM: {ram_info.used / 1024 / 1024 / 1024:.2f} GB\")\n",
    "print(f\"Percentage Usage Of RAM: {ram_info.percent}%\")\n",
    "print(f\"CPU Cores: {os.cpu_count()}\")\n",
    "print(f\"CPU Speed: {cpuinfo.get_cpu_info()['hz_actual_friendly']}\")\n",
    "disk_info = psutil.disk_usage(os.getcwd())\n",
    "print(f\"Total Disk: {disk_info.total / 1024 / 1024 / 1024:.2f} GB\")\n",
    "print(f\"Available Disk: {disk_info.free / 1024 / 1024 / 1024:.2f} GB\")\n",
    "print(f\"Used Disk: {disk_info.used / 1024 / 1024 / 1024:.2f} GB\")\n",
    "print(f\"Percentage Usage Of Disk: {disk_info.percent}%\")"
   ]
  },
  {
   "cell_type": "code",
   "execution_count": 3,
   "id": "3aa0ef51-d46b-4ccf-9caa-741ad90c77c1",
   "metadata": {
    "tags": []
   },
   "outputs": [
    {
     "name": "stderr",
     "output_type": "stream",
     "text": [
      "2023-10-18 15:15:46.094266: I tensorflow/core/platform/cpu_feature_guard.cc:182] This TensorFlow binary is optimized to use available CPU instructions in performance-critical operations.\n",
      "To enable the following instructions: SSE4.1 SSE4.2 AVX AVX2 AVX512F FMA, in other operations, rebuild TensorFlow with the appropriate compiler flags.\n"
     ]
    }
   ],
   "source": [
    "# import requirements\n",
    "import numpy as np\n",
    "import pandas as pd\n",
    "from sklearn.metrics import confusion_matrix, accuracy_score, f1_score\n",
    "from wrangle import prepare\n",
    "from nnet_classifier import Classification"
   ]
  },
  {
   "cell_type": "code",
   "execution_count": 4,
   "id": "32da91cf-563e-4206-97d7-6a3c7af2bcfa",
   "metadata": {
    "tags": []
   },
   "outputs": [],
   "source": [
    "# get the data\n",
    "titanic = pd.read_csv(\"titanic.csv\")"
   ]
  },
  {
   "cell_type": "code",
   "execution_count": 5,
   "id": "4a010638-a2f7-47ba-848e-fbec65b27da1",
   "metadata": {},
   "outputs": [
    {
     "name": "stdout",
     "output_type": "stream",
     "text": [
      "Data Wrangling:\n",
      "> Removing Unnecessary Columns\n",
      "> Getting Titles From Name\n",
      "> Transforming Ticket\n",
      "> Replacing Missing Values\n",
      "> Transforming Cabin\n",
      "> Shuffling The Data\n",
      "0.01 Seconds\n",
      "Plotting:\n",
      "> Plotting Correlations\n",
      "> Age vs. Fare\n",
      "> Plotting Age\n",
      "> Plotting Fare\n",
      "> Plotting Survived\n",
      "> Plotting Pclass\n",
      "> Plotting Sex\n",
      "> Plotting SibSp\n",
      "> Plotting Parch\n",
      "> Plotting Ticket\n",
      "> Plotting Cabin\n",
      "> Plotting Embarked\n",
      "> Plotting Title\n",
      "> Survived vs. Pclass\n",
      "> Survived vs. Sex\n",
      "> Survived vs. SibSp\n",
      "> Survived vs. Parch\n",
      "> Survived vs. Ticket\n",
      "> Survived vs. Cabin\n",
      "> Survived vs. Embarked\n",
      "> Survived vs. Title\n",
      "> Pclass vs. Sex\n",
      "> Pclass vs. SibSp\n",
      "> Pclass vs. Parch\n",
      "> Pclass vs. Ticket\n",
      "> Pclass vs. Cabin\n",
      "> Pclass vs. Embarked\n",
      "> Pclass vs. Title\n",
      "> Sex vs. SibSp\n",
      "> Sex vs. Parch\n",
      "> Sex vs. Ticket\n",
      "> Sex vs. Cabin\n",
      "> Sex vs. Embarked\n",
      "> Sex vs. Title\n",
      "> SibSp vs. Parch\n",
      "> SibSp vs. Ticket\n",
      "> SibSp vs. Cabin\n",
      "> SibSp vs. Embarked\n",
      "> SibSp vs. Title\n",
      "> Parch vs. Ticket\n",
      "> Parch vs. Cabin\n",
      "> Parch vs. Embarked\n",
      "> Parch vs. Title\n",
      "> Ticket vs. Cabin\n",
      "> Ticket vs. Embarked\n",
      "> Ticket vs. Title\n",
      "> Cabin vs. Embarked\n",
      "> Cabin vs. Title\n",
      "> Embarked vs. Title\n",
      "> Age vs. Survived\n",
      "> Age vs. Pclass\n",
      "> Age vs. Sex\n",
      "> Age vs. SibSp\n",
      "> Age vs. Parch\n",
      "> Age vs. Ticket\n",
      "> Age vs. Cabin\n",
      "> Age vs. Embarked\n",
      "> Age vs. Title\n",
      "> Fare vs. Survived\n",
      "> Fare vs. Pclass\n",
      "> Fare vs. Sex\n",
      "> Fare vs. SibSp\n",
      "> Fare vs. Parch\n",
      "> Fare vs. Ticket\n",
      "> Fare vs. Cabin\n",
      "> Fare vs. Embarked\n",
      "> Fare vs. Title\n",
      "6.71 Seconds\n"
     ]
    }
   ],
   "source": [
    "# prepare the data for machine learning\n",
    "titanic = prepare(df=titanic, name=\"Data Preparation\", path=None, plots=True)"
   ]
  },
  {
   "cell_type": "code",
   "execution_count": 6,
   "id": "45f9301a-5582-4abd-8e1b-33a9302eb898",
   "metadata": {
    "tags": []
   },
   "outputs": [],
   "source": [
    "# get the testing data\n",
    "y = titanic[[\"Survived\"]]\n",
    "X = titanic.drop(columns=\"Survived\")\n",
    "testX = X.tail(int(0.2 * X.shape[0])).reset_index(drop=True)\n",
    "testy = y.tail(int(0.2 * y.shape[0])).reset_index(drop=True)"
   ]
  },
  {
   "cell_type": "code",
   "execution_count": 7,
   "id": "a543694e-96f5-4e1e-ac1c-17e2694f648b",
   "metadata": {
    "tags": []
   },
   "outputs": [
    {
     "name": "stdout",
     "output_type": "stream",
     "text": [
      "\n",
      "---- Titanic Classification Analysis ----\n",
      "\n",
      "Model Training:\n",
      "> Transforming The Training Data\n",
      "> Transforming Categorical Features\n",
      "> Filling In Missing Values\n",
      "> Removing Constant Features\n",
      "> Scaling Features\n",
      "> Training Neural Network\n",
      "55.37 Seconds\n",
      "Model Performance:\n",
      "> Transforming The Testing Data\n",
      "> Scoring The Model\n",
      "3.42 Seconds\n",
      "Model Indicators:\n",
      "> Perturbing Features\n",
      "6.46 Seconds\n",
      "Model Prediction:\n",
      "> Transforming The New Data\n",
      "> Getting Predictions\n",
      "0.14 Seconds\n",
      "Model Monitoring:\n",
      "> Computing Feature Drift\n",
      "0.19 Seconds\n",
      "Accuracy: 0.7822022471910113\n",
      "F1: 0.7333733401619313\n",
      "In Control: 100.0%\n",
      "Confusion Matrix:\n",
      "    0   1\n",
      "0  85  12\n",
      "1  27  54\n"
     ]
    }
   ],
   "source": [
    "# build the model\n",
    "print(\"\\n---- Titanic Classification Analysis ----\\n\")\n",
    "model = Classification(\n",
    "    name=\"Tensorflow Without Feature Engineering\", \n",
    "    path=None,\n",
    "    rename=False, \n",
    "    time=False, \n",
    "    binary=True, \n",
    "    imputation=True, \n",
    "    variance=True,\n",
    "    scale=True,\n",
    "    atwood=False,\n",
    "    binning=False,\n",
    "    reciprocal=False, \n",
    "    interaction=False, \n",
    "    selection=False,\n",
    "    plots=True,\n",
    ")\n",
    "try:\n",
    "    model.load()  # load the machine learning pipeline\n",
    "    predictions = model.predict(testX)\n",
    "except:\n",
    "    model.validate(X, y)  # build the machine learning pipeline\n",
    "    predictions = model.predict(testX)\n",
    "    print(f\"Accuracy: {model.accuracy}\")\n",
    "    print(f\"F1: {model.f1}\")\n",
    "    print(f\"In Control: {model.in_control}\")\n",
    "    print(\"Confusion Matrix:\")\n",
    "    print(model.confusion)"
   ]
  },
  {
   "cell_type": "code",
   "execution_count": 8,
   "id": "2b88af05-8286-459b-b34d-0086c4065fa6",
   "metadata": {},
   "outputs": [
    {
     "name": "stdout",
     "output_type": "stream",
     "text": [
      "Model Indicators:\n",
      "1. Parch_6\n",
      "2. Parch_5\n",
      "3. Parch_4\n",
      "4. Parch_3\n",
      "5. Parch_2\n",
      "6. Parch_1\n",
      "7. SibSp_8\n",
      "8. Parch_0\n",
      "9. SibSp_5\n",
      "10. SibSp_4\n",
      " \n",
      "Feature Drift:\n",
      "None\n"
     ]
    }
   ],
   "source": [
    "# model diagnostics\n",
    "print(\"Model Indicators:\")\n",
    "for i, indicator in enumerate(model.indicators[\"Indicator\"][:10]):\n",
    "    print(f\"{i+1}. {indicator}\")\n",
    "print(\" \")\n",
    "print(\"Feature Drift:\")\n",
    "for i, feature in enumerate(model.drift.loc[model.drift[\"pvalue\"] < 0.05, \"Feature\"][:10]):\n",
    "    print(f\"{i+1}. {feature}\")\n",
    "if model.drift.loc[model.drift[\"pvalue\"] < 0.05].shape[0] == 0:\n",
    "    print(\"None\")"
   ]
  },
  {
   "cell_type": "code",
   "execution_count": 9,
   "id": "30b9ca50-06d6-49b7-848b-c0852e302909",
   "metadata": {
    "tags": []
   },
   "outputs": [
    {
     "name": "stdout",
     "output_type": "stream",
     "text": [
      "Accuracy: 0.7808988764044944\n",
      "F1: 0.7346938775510203\n"
     ]
    }
   ],
   "source": [
    "# score the model\n",
    "accuracy = accuracy_score(\n",
    "    y_true=testy.iloc[:,0].to_numpy(),\n",
    "    y_pred=predictions,\n",
    ")\n",
    "f1 = f1_score(\n",
    "    y_true=testy.iloc[:,0].to_numpy(),\n",
    "    y_pred=predictions,\n",
    ")\n",
    "\n",
    "print(f\"Accuracy: {accuracy}\")\n",
    "print(f\"F1: {f1}\")"
   ]
  },
  {
   "cell_type": "code",
   "execution_count": 10,
   "id": "da46103b-b661-4234-8a31-9804f9139435",
   "metadata": {},
   "outputs": [
    {
     "name": "stdout",
     "output_type": "stream",
     "text": [
      "Confusion Matrix:\n",
      "    0   1\n",
      "0  85  12\n",
      "1  27  54\n"
     ]
    }
   ],
   "source": [
    "# show the confusion matrix\n",
    "ytest = testy.iloc[:,0].to_numpy()\n",
    "labels = np.unique(np.concatenate((predictions, ytest)))\n",
    "confusion = confusion_matrix(\n",
    "    y_true=ytest,   # rows\n",
    "    y_pred=predictions,  # columns\n",
    "    labels=labels,\n",
    ")\n",
    "confusion = pd.DataFrame(\n",
    "    confusion, \n",
    "    columns=labels, \n",
    "    index=labels,\n",
    ")\n",
    "print(\"Confusion Matrix:\")\n",
    "pd.set_option(\"display.width\", 1000)\n",
    "print(confusion)"
   ]
  },
  {
   "cell_type": "code",
   "execution_count": 11,
   "id": "2226e286-b762-4265-a3de-de9a5561d5ec",
   "metadata": {
    "tags": []
   },
   "outputs": [],
   "source": [
    "# save the machine learning pipeline\n",
    "model.dump()"
   ]
  },
  {
   "cell_type": "code",
   "execution_count": 12,
   "id": "bdd600fc-dae1-4f58-9117-0ce0d7fc232c",
   "metadata": {},
   "outputs": [
    {
     "name": "stdout",
     "output_type": "stream",
     "text": [
      "Model Retraining:\n",
      "> Transforming The Updated Data\n",
      "> Transforming Categorical Features\n",
      "> Filling In Missing Values\n",
      "> Removing Constant Features\n",
      "> Scaling Features\n",
      "> Training Neural Network\n",
      "1.37 Minutes\n",
      "Model Indicators:\n",
      "> Perturbing Features\n",
      "8.22 Seconds\n"
     ]
    }
   ],
   "source": [
    "# refit the model to include the test data\n",
    "model.refit(testX, testy)"
   ]
  }
 ],
 "metadata": {
  "kernelspec": {
   "display_name": "sagemaker-distribution:Python",
   "language": "python",
   "name": "conda-env-sagemaker-distribution-py"
  },
  "language_info": {
   "codemirror_mode": {
    "name": "ipython",
    "version": 3
   },
   "file_extension": ".py",
   "mimetype": "text/x-python",
   "name": "python",
   "nbconvert_exporter": "python",
   "pygments_lexer": "ipython3",
   "version": "3.8.17"
  }
 },
 "nbformat": 4,
 "nbformat_minor": 5
}
