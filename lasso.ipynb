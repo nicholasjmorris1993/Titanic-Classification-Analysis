{
 "cells": [
  {
   "cell_type": "code",
   "execution_count": 1,
   "id": "abb00f0e-b45a-475a-ab3f-1647e3f87002",
   "metadata": {},
   "outputs": [
    {
     "name": "stdout",
     "output_type": "stream",
     "text": [
      "Requirement already satisfied: plotly in /opt/conda/envs/sagemaker-distribution/lib/python3.8/site-packages (5.18.0)\n",
      "Requirement already satisfied: tenacity>=6.2.0 in /opt/conda/envs/sagemaker-distribution/lib/python3.8/site-packages (from plotly) (8.2.3)\n",
      "Requirement already satisfied: packaging in /opt/conda/envs/sagemaker-distribution/lib/python3.8/site-packages (from plotly) (23.1)\n",
      "Note: you may need to restart the kernel to use updated packages.\n",
      "Requirement already satisfied: py-cpuinfo in /opt/conda/envs/sagemaker-distribution/lib/python3.8/site-packages (9.0.0)\n",
      "Note: you may need to restart the kernel to use updated packages.\n",
      "Requirement already satisfied: pandas-datareader in /opt/conda/envs/sagemaker-distribution/lib/python3.8/site-packages (0.10.0)\n",
      "Requirement already satisfied: lxml in /opt/conda/envs/sagemaker-distribution/lib/python3.8/site-packages (from pandas-datareader) (4.9.3)\n",
      "Requirement already satisfied: pandas>=0.23 in /opt/conda/envs/sagemaker-distribution/lib/python3.8/site-packages (from pandas-datareader) (2.0.3)\n",
      "Requirement already satisfied: requests>=2.19.0 in /opt/conda/envs/sagemaker-distribution/lib/python3.8/site-packages (from pandas-datareader) (2.31.0)\n",
      "Requirement already satisfied: python-dateutil>=2.8.2 in /opt/conda/envs/sagemaker-distribution/lib/python3.8/site-packages (from pandas>=0.23->pandas-datareader) (2.8.2)\n",
      "Requirement already satisfied: pytz>=2020.1 in /opt/conda/envs/sagemaker-distribution/lib/python3.8/site-packages (from pandas>=0.23->pandas-datareader) (2023.3)\n",
      "Requirement already satisfied: tzdata>=2022.1 in /opt/conda/envs/sagemaker-distribution/lib/python3.8/site-packages (from pandas>=0.23->pandas-datareader) (2023.3)\n",
      "Requirement already satisfied: numpy>=1.20.3 in /opt/conda/envs/sagemaker-distribution/lib/python3.8/site-packages (from pandas>=0.23->pandas-datareader) (1.24.4)\n",
      "Requirement already satisfied: charset-normalizer<4,>=2 in /opt/conda/envs/sagemaker-distribution/lib/python3.8/site-packages (from requests>=2.19.0->pandas-datareader) (3.2.0)\n",
      "Requirement already satisfied: idna<4,>=2.5 in /opt/conda/envs/sagemaker-distribution/lib/python3.8/site-packages (from requests>=2.19.0->pandas-datareader) (3.4)\n",
      "Requirement already satisfied: urllib3<3,>=1.21.1 in /opt/conda/envs/sagemaker-distribution/lib/python3.8/site-packages (from requests>=2.19.0->pandas-datareader) (1.26.15)\n",
      "Requirement already satisfied: certifi>=2017.4.17 in /opt/conda/envs/sagemaker-distribution/lib/python3.8/site-packages (from requests>=2.19.0->pandas-datareader) (2023.7.22)\n",
      "Requirement already satisfied: six>=1.5 in /opt/conda/envs/sagemaker-distribution/lib/python3.8/site-packages (from python-dateutil>=2.8.2->pandas>=0.23->pandas-datareader) (1.16.0)\n",
      "Note: you may need to restart the kernel to use updated packages.\n",
      "Requirement already satisfied: nltk in /opt/conda/envs/sagemaker-distribution/lib/python3.8/site-packages (3.8.1)\n",
      "Requirement already satisfied: click in /opt/conda/envs/sagemaker-distribution/lib/python3.8/site-packages (from nltk) (8.1.6)\n",
      "Requirement already satisfied: joblib in /opt/conda/envs/sagemaker-distribution/lib/python3.8/site-packages (from nltk) (1.3.0)\n",
      "Requirement already satisfied: regex>=2021.8.3 in /opt/conda/envs/sagemaker-distribution/lib/python3.8/site-packages (from nltk) (2023.10.3)\n",
      "Requirement already satisfied: tqdm in /opt/conda/envs/sagemaker-distribution/lib/python3.8/site-packages (from nltk) (4.65.0)\n",
      "Note: you may need to restart the kernel to use updated packages.\n"
     ]
    }
   ],
   "source": [
    "# install missing packages\n",
    "%pip install plotly\n",
    "%pip install py-cpuinfo\n",
    "%pip install pandas-datareader\n",
    "%pip install nltk"
   ]
  },
  {
   "cell_type": "code",
   "execution_count": 2,
   "id": "28211ea4-4ff7-48eb-a395-53442492a061",
   "metadata": {
    "tags": []
   },
   "outputs": [
    {
     "name": "stdout",
     "output_type": "stream",
     "text": [
      "Total RAM: 15.47 GB\n",
      "Available RAM: 13.06 GB\n",
      "Used RAM: 2.09 GB\n",
      "Percentage Usage Of RAM: 15.6%\n",
      "CPU Cores: 4\n",
      "CPU Speed: 2.5000 GHz\n",
      "Total Disk: 24.99 GB\n",
      "Available Disk: 17.02 GB\n",
      "Used Disk: 7.96 GB\n",
      "Percentage Usage Of Disk: 31.9%\n"
     ]
    }
   ],
   "source": [
    "# check system details\n",
    "import os\n",
    "import psutil\n",
    "import cpuinfo\n",
    "\n",
    "ram_info = psutil.virtual_memory()\n",
    "print(f\"Total RAM: {ram_info.total / 1024 / 1024 / 1024:.2f} GB\")\n",
    "print(f\"Available RAM: {ram_info.available / 1024 / 1024 / 1024:.2f} GB\")\n",
    "print(f\"Used RAM: {ram_info.used / 1024 / 1024 / 1024:.2f} GB\")\n",
    "print(f\"Percentage Usage Of RAM: {ram_info.percent}%\")\n",
    "print(f\"CPU Cores: {os.cpu_count()}\")\n",
    "print(f\"CPU Speed: {cpuinfo.get_cpu_info()['hz_actual_friendly']}\")\n",
    "disk_info = psutil.disk_usage(os.getcwd())\n",
    "print(f\"Total Disk: {disk_info.total / 1024 / 1024 / 1024:.2f} GB\")\n",
    "print(f\"Available Disk: {disk_info.free / 1024 / 1024 / 1024:.2f} GB\")\n",
    "print(f\"Used Disk: {disk_info.used / 1024 / 1024 / 1024:.2f} GB\")\n",
    "print(f\"Percentage Usage Of Disk: {disk_info.percent}%\")"
   ]
  },
  {
   "cell_type": "code",
   "execution_count": 3,
   "id": "3aa0ef51-d46b-4ccf-9caa-741ad90c77c1",
   "metadata": {
    "tags": []
   },
   "outputs": [
    {
     "name": "stderr",
     "output_type": "stream",
     "text": [
      "[nltk_data] Downloading package vader_lexicon to /home/studio-lab-\n",
      "[nltk_data]     user/nltk_data...\n",
      "[nltk_data]   Package vader_lexicon is already up-to-date!\n"
     ]
    }
   ],
   "source": [
    "# import requirements\n",
    "import numpy as np\n",
    "import pandas as pd\n",
    "from sklearn.metrics import confusion_matrix, accuracy_score, f1_score\n",
    "from wrangle import prepare\n",
    "from lm_classifier import Classification"
   ]
  },
  {
   "cell_type": "code",
   "execution_count": 4,
   "id": "32da91cf-563e-4206-97d7-6a3c7af2bcfa",
   "metadata": {
    "tags": []
   },
   "outputs": [],
   "source": [
    "# get the data\n",
    "titanic = pd.read_csv(\"titanic.csv\")"
   ]
  },
  {
   "cell_type": "code",
   "execution_count": 5,
   "id": "4a010638-a2f7-47ba-848e-fbec65b27da1",
   "metadata": {},
   "outputs": [
    {
     "name": "stdout",
     "output_type": "stream",
     "text": [
      "Data Wrangling:\n",
      "> Removing Unnecessary Columns\n",
      "> Getting Titles From Name\n",
      "> Transforming Ticket\n",
      "> Replacing Missing Values\n",
      "> Transforming Cabin\n",
      "> Shuffling The Data\n",
      "0.02 Seconds\n"
     ]
    }
   ],
   "source": [
    "# prepare the data for machine learning\n",
    "titanic = prepare(df=titanic)"
   ]
  },
  {
   "cell_type": "code",
   "execution_count": 6,
   "id": "45f9301a-5582-4abd-8e1b-33a9302eb898",
   "metadata": {
    "tags": []
   },
   "outputs": [],
   "source": [
    "# get the testing data\n",
    "y = titanic[[\"Survived\"]]\n",
    "X = titanic.drop(columns=\"Survived\")\n",
    "testX = X.tail(int(0.2 * X.shape[0])).reset_index(drop=True)\n",
    "testy = y.tail(int(0.2 * y.shape[0])).reset_index(drop=True)"
   ]
  },
  {
   "cell_type": "code",
   "execution_count": 7,
   "id": "a543694e-96f5-4e1e-ac1c-17e2694f648b",
   "metadata": {
    "tags": []
   },
   "outputs": [
    {
     "name": "stdout",
     "output_type": "stream",
     "text": [
      "\n",
      "---- Titanic Classification Analysis ----\n",
      "\n",
      "Visualizing The Data:\n",
      "> Plotting Correlations\n",
      "> Plotting Age\n",
      "> Plotting Fare\n",
      "> Plotting Sex\n",
      "> Plotting Ticket\n",
      "> Plotting Cabin\n",
      "> Plotting Embarked\n",
      "> Plotting Title\n",
      "> Plotting Survived\n",
      "> Plotting Pclass\n",
      "> Plotting SibSp\n",
      "> Plotting Parch\n",
      "> Sex vs. Ticket\n",
      "> Sex vs. Cabin\n",
      "> Sex vs. Embarked\n",
      "> Sex vs. Title\n",
      "> Sex vs. Survived\n",
      "> Sex vs. Pclass\n",
      "> Sex vs. SibSp\n",
      "> Sex vs. Parch\n",
      "> Ticket vs. Cabin\n",
      "> Ticket vs. Embarked\n",
      "> Ticket vs. Title\n",
      "> Ticket vs. Survived\n",
      "> Ticket vs. Pclass\n",
      "> Ticket vs. SibSp\n",
      "> Ticket vs. Parch\n",
      "> Cabin vs. Embarked\n",
      "> Cabin vs. Title\n",
      "> Cabin vs. Survived\n",
      "> Cabin vs. Pclass\n",
      "> Cabin vs. SibSp\n",
      "> Cabin vs. Parch\n",
      "> Embarked vs. Title\n",
      "> Embarked vs. Survived\n",
      "> Embarked vs. Pclass\n",
      "> Embarked vs. SibSp\n",
      "> Embarked vs. Parch\n",
      "> Title vs. Survived\n",
      "> Title vs. Pclass\n",
      "> Title vs. SibSp\n",
      "> Title vs. Parch\n",
      "> Survived vs. Pclass\n",
      "> Survived vs. SibSp\n",
      "> Survived vs. Parch\n",
      "> Pclass vs. SibSp\n",
      "> Pclass vs. Parch\n",
      "> SibSp vs. Parch\n",
      "> Age vs. Sex\n",
      "> Age vs. Ticket\n",
      "> Age vs. Cabin\n",
      "> Age vs. Embarked\n",
      "> Age vs. Title\n",
      "> Age vs. Pclass\n",
      "> Age vs. SibSp\n",
      "> Age vs. Parch\n",
      "> Fare vs. Sex\n",
      "> Fare vs. Ticket\n",
      "> Fare vs. Cabin\n",
      "> Fare vs. Embarked\n",
      "> Fare vs. Title\n",
      "> Fare vs. Survived\n",
      "> Fare vs. Pclass\n",
      "> Fare vs. SibSp\n",
      "> Fare vs. Parch\n",
      "14.18 Seconds\n",
      "Model Training:\n",
      "> Transforming The Training Data\n",
      "> Transforming Categorical Features\n",
      "> Filling In Missing Values\n",
      "> Removing Constant Features\n",
      "> Scaling Features\n",
      "> Training Lasso\n",
      "2.33 Seconds\n",
      "Model Performance:\n",
      "> Transforming The Testing Data\n",
      "> Scoring The Model\n",
      "12.23 Seconds\n",
      "Model Indicators:\n",
      "> Extracting Important Features\n",
      "1.6 Seconds\n",
      "Model Prediction:\n",
      "> Transforming The New Data\n",
      "> Getting Predictions\n",
      "0.11 Seconds\n",
      "Model Monitoring:\n",
      "> Computing Feature Drift\n",
      "0.63 Seconds\n",
      "\n",
      "Model Performance:\n",
      "Accuracy: 0.8654494382022472\n",
      "F1: 0.8623448455451421\n",
      "In Control: 100.0%\n",
      "Confusion Matrix:\n",
      "          0         1\n",
      "0  0.488764  0.056180\n",
      "1  0.078652  0.376404\n"
     ]
    }
   ],
   "source": [
    "# build the model\n",
    "print(\"\\n---- Titanic Classification Analysis ----\\n\")\n",
    "model = Classification(\n",
    "    name=\"Lasso Without Feature Engineering\", \n",
    "    path=None,\n",
    "    rename=False, \n",
    "    time=False, \n",
    "    text=False,\n",
    "    binary=True, \n",
    "    imputation=True, \n",
    "    variance=True,\n",
    "    scale=True,\n",
    "    atwood=False,\n",
    "    binning=False,\n",
    "    reciprocal=False, \n",
    "    interaction=False, \n",
    "    selection=False,\n",
    "    plots=True,\n",
    ")\n",
    "try:\n",
    "    model.load()  # load the machine learning pipeline\n",
    "    predictions = model.predict(testX)\n",
    "except:\n",
    "    model.explore(titanic)\n",
    "    model.validate(X, y)  # build the machine learning pipeline\n",
    "    predictions = model.predict(testX)\n",
    "    print(\"\\nModel Performance:\")\n",
    "    print(f\"Accuracy: {model.accuracy}\")\n",
    "    print(f\"F1: {model.f1}\")\n",
    "    print(f\"In Control: {model.in_control}\")\n",
    "    print(\"Confusion Matrix:\")\n",
    "    pd.set_option(\"display.width\", 1000)\n",
    "    print(model.confusion / model.confusion.sum().sum())"
   ]
  },
  {
   "cell_type": "code",
   "execution_count": 14,
   "id": "2b88af05-8286-459b-b34d-0086c4065fa6",
   "metadata": {},
   "outputs": [
    {
     "name": "stdout",
     "output_type": "stream",
     "text": [
      "Model Indicators:\n",
      "1. Title_Master.\n",
      "2. SibSp_2\n",
      "3. SibSp_0\n",
      "4. Age\n",
      "5. SibSp_1\n",
      "6. Ticket_W\n",
      "7. Sex_male\n",
      "8. Parch_4\n",
      "9. Title_Sir.\n",
      "10. Fare\n",
      " \n",
      "Feature Drift:\n",
      "None\n"
     ]
    }
   ],
   "source": [
    "# model diagnostics\n",
    "print(\"Model Indicators:\")\n",
    "for i, indicator in enumerate(model.indicators[\"Indicator\"][:10].tolist()):\n",
    "    print(f\"{i+1}. {indicator}\")\n",
    "print(\" \")\n",
    "print(\"Feature Drift:\")\n",
    "for i, feature in enumerate(model.drift.loc[model.drift[\"pvalue\"] < 0.05, \"Feature\"][:10].tolist()):\n",
    "    print(f\"{i+1}. {feature}\")\n",
    "if model.drift.loc[model.drift[\"pvalue\"] < 0.05].shape[0] == 0:\n",
    "    print(\"None\")"
   ]
  },
  {
   "cell_type": "code",
   "execution_count": 15,
   "id": "30b9ca50-06d6-49b7-848b-c0852e302909",
   "metadata": {
    "tags": []
   },
   "outputs": [
    {
     "name": "stdout",
     "output_type": "stream",
     "text": [
      "Accuracy: 0.8651685393258427\n",
      "F1: 0.8634445723053319\n"
     ]
    }
   ],
   "source": [
    "# score the model\n",
    "accuracy = accuracy_score(\n",
    "    y_true=testy.iloc[:,0].to_numpy(),\n",
    "    y_pred=predictions,\n",
    ")\n",
    "f1 = f1_score(\n",
    "    y_true=testy.iloc[:,0].to_numpy(),\n",
    "    y_pred=predictions,\n",
    "    average=\"macro\",\n",
    ")\n",
    "\n",
    "print(f\"Accuracy: {accuracy}\")\n",
    "print(f\"F1: {f1}\")"
   ]
  },
  {
   "cell_type": "code",
   "execution_count": 10,
   "id": "da46103b-b661-4234-8a31-9804f9139435",
   "metadata": {},
   "outputs": [
    {
     "name": "stdout",
     "output_type": "stream",
     "text": [
      "Confusion Matrix:\n",
      "          0         1\n",
      "0  0.488764  0.056180\n",
      "1  0.078652  0.376404\n"
     ]
    }
   ],
   "source": [
    "# show the confusion matrix\n",
    "ytest = testy.iloc[:,0].to_numpy()\n",
    "labels = np.unique(np.concatenate((predictions, ytest)))\n",
    "confusion = confusion_matrix(\n",
    "    y_true=ytest,   # rows\n",
    "    y_pred=predictions,  # columns\n",
    "    labels=labels,\n",
    ")\n",
    "confusion = pd.DataFrame(\n",
    "    confusion, \n",
    "    columns=labels, \n",
    "    index=labels,\n",
    ")\n",
    "print(\"Confusion Matrix:\")\n",
    "pd.set_option(\"display.width\", 1000)\n",
    "print(confusion / confusion.sum().sum())"
   ]
  },
  {
   "cell_type": "code",
   "execution_count": 11,
   "id": "2226e286-b762-4265-a3de-de9a5561d5ec",
   "metadata": {
    "tags": []
   },
   "outputs": [],
   "source": [
    "# save the machine learning pipeline\n",
    "model.dump()"
   ]
  },
  {
   "cell_type": "code",
   "execution_count": 12,
   "id": "bdd600fc-dae1-4f58-9117-0ce0d7fc232c",
   "metadata": {},
   "outputs": [
    {
     "name": "stdout",
     "output_type": "stream",
     "text": [
      "Model Retraining:\n",
      "> Transforming The Updated Data\n",
      "> Transforming Categorical Features\n",
      "> Filling In Missing Values\n",
      "> Removing Constant Features\n",
      "> Scaling Features\n",
      "> Training Lasso\n",
      "3.36 Seconds\n",
      "Model Indicators:\n",
      "> Extracting Important Features\n",
      "1.09 Seconds\n"
     ]
    }
   ],
   "source": [
    "# refit the model to include the test data\n",
    "model.refit(testX, testy)"
   ]
  }
 ],
 "metadata": {
  "kernelspec": {
   "display_name": "sagemaker-distribution:Python",
   "language": "python",
   "name": "conda-env-sagemaker-distribution-py"
  },
  "language_info": {
   "codemirror_mode": {
    "name": "ipython",
    "version": 3
   },
   "file_extension": ".py",
   "mimetype": "text/x-python",
   "name": "python",
   "nbconvert_exporter": "python",
   "pygments_lexer": "ipython3",
   "version": "3.8.17"
  }
 },
 "nbformat": 4,
 "nbformat_minor": 5
}
